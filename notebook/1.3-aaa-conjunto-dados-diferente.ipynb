{
 "cells": [
  {
   "cell_type": "markdown",
   "metadata": {},
   "source": [
    "# **Aprendendo sobre clusters com Alura**\n",
    "<center>\n",
    "<img src=\"../img/andreson.png\" />\n",
    "</center>\n",
    "\n",
    "**Autor:** Andreson Almeida Azevedo"
   ]
  },
  {
   "cell_type": "code",
   "execution_count": null,
   "metadata": {},
   "outputs": [],
   "source": []
  },
  {
   "cell_type": "markdown",
   "metadata": {},
   "source": [
    "Este notebook esta sendo construindo, utilizando os conhecimento iniciais sobre análise de cluster em python, utilizando como referências o curso [Alura](https://cursos.alura.com.br/course/cluster-analysis). Irei utilizar inicialmente a seguinte [Base de dados](https://www.kaggle.com/datasets/mehmetisik/livecsv) que esta disponível no Kaggle.\n",
    "\n",
    "[Link Original](https://archive.ics.uci.edu/dataset/488/facebook+live+sellers+in+thailand)\n",
    "\n",
    "[Paper sobre dataset](https://sci-hub.ru/10.1016/j.dib.2020.105661)"
   ]
  },
  {
   "cell_type": "markdown",
   "metadata": {},
   "source": [
    "# Carregado bibliotecas"
   ]
  },
  {
   "cell_type": "code",
   "execution_count": 107,
   "metadata": {},
   "outputs": [
    {
     "name": "stdout",
     "output_type": "stream",
     "text": [
      "Collecting scikit-learn-extra\n",
      "  Using cached scikit_learn_extra-0.3.0-cp39-cp39-win_amd64.whl (346 kB)\n",
      "Requirement already satisfied: numpy>=1.13.3 in c:\\users\\andre\\appdata\\local\\r-miniconda\\lib\\site-packages (from scikit-learn-extra) (1.24.4)\n",
      "Requirement already satisfied: scikit-learn>=0.23.0 in c:\\users\\andre\\appdata\\local\\r-miniconda\\lib\\site-packages (from scikit-learn-extra) (1.1.1)\n",
      "Requirement already satisfied: scipy>=0.19.1 in c:\\users\\andre\\appdata\\local\\r-miniconda\\lib\\site-packages (from scikit-learn-extra) (1.8.1)\n",
      "Requirement already satisfied: threadpoolctl>=2.0.0 in c:\\users\\andre\\appdata\\local\\r-miniconda\\lib\\site-packages (from scikit-learn>=0.23.0->scikit-learn-extra) (3.1.0)\n",
      "Requirement already satisfied: joblib>=1.0.0 in c:\\users\\andre\\appdata\\local\\r-miniconda\\lib\\site-packages (from scikit-learn>=0.23.0->scikit-learn-extra) (1.3.2)\n",
      "Installing collected packages: scikit-learn-extra\n",
      "Successfully installed scikit-learn-extra-0.3.0\n"
     ]
    }
   ],
   "source": [
    "!pip install scikit-learn-extra"
   ]
  },
  {
   "cell_type": "code",
   "execution_count": 108,
   "metadata": {},
   "outputs": [],
   "source": [
    "# dados\n",
    "import pandas as pd\n",
    "import numpy as np\n",
    "\n",
    "# pre-processamento\n",
    "from sklearn.preprocessing import Normalizer\n",
    "\n",
    "# algoritmos cluster\n",
    "from sklearn.cluster import KMeans\n",
    "from sklearn_extra.cluster import KMedoids\n",
    "from sklearn.cluster import DBSCAN\n",
    "# k-vizinhos mais próximos\n",
    "from sklearn.neighbors import NearestNeighbors\n",
    "\n",
    "# métricas de validação\n",
    "from sklearn.metrics import silhouette_score\n",
    "from sklearn.metrics import davies_bouldin_score\n",
    "from sklearn.metrics import calinski_harabasz_score\n",
    "\n",
    "# Visualizações\n",
    "import matplotlib.pyplot as plt\n",
    "import seaborn as sns\n",
    "\n",
    "# salvar e carregar modelo\n",
    "\n",
    "import pickle"
   ]
  },
  {
   "cell_type": "code",
   "execution_count": null,
   "metadata": {},
   "outputs": [],
   "source": []
  },
  {
   "cell_type": "code",
   "execution_count": 8,
   "metadata": {},
   "outputs": [
    {
     "data": {
      "text/html": [
       "<div>\n",
       "<style scoped>\n",
       "    .dataframe tbody tr th:only-of-type {\n",
       "        vertical-align: middle;\n",
       "    }\n",
       "\n",
       "    .dataframe tbody tr th {\n",
       "        vertical-align: top;\n",
       "    }\n",
       "\n",
       "    .dataframe thead th {\n",
       "        text-align: right;\n",
       "    }\n",
       "</style>\n",
       "<table border=\"1\" class=\"dataframe\">\n",
       "  <thead>\n",
       "    <tr style=\"text-align: right;\">\n",
       "      <th></th>\n",
       "      <th>status_id</th>\n",
       "      <th>status_type</th>\n",
       "      <th>status_published</th>\n",
       "      <th>num_reactions</th>\n",
       "      <th>num_comments</th>\n",
       "      <th>num_shares</th>\n",
       "      <th>num_likes</th>\n",
       "      <th>num_loves</th>\n",
       "      <th>num_wows</th>\n",
       "      <th>num_hahas</th>\n",
       "      <th>num_sads</th>\n",
       "      <th>num_angrys</th>\n",
       "      <th>Column1</th>\n",
       "      <th>Column2</th>\n",
       "      <th>Column3</th>\n",
       "      <th>Column4</th>\n",
       "    </tr>\n",
       "  </thead>\n",
       "  <tbody>\n",
       "    <tr>\n",
       "      <th>0</th>\n",
       "      <td>246675545449582_1649696485147474</td>\n",
       "      <td>video</td>\n",
       "      <td>4/22/2018 6:00</td>\n",
       "      <td>529</td>\n",
       "      <td>512</td>\n",
       "      <td>262</td>\n",
       "      <td>432</td>\n",
       "      <td>92</td>\n",
       "      <td>3</td>\n",
       "      <td>1</td>\n",
       "      <td>1</td>\n",
       "      <td>0</td>\n",
       "      <td>NaN</td>\n",
       "      <td>NaN</td>\n",
       "      <td>NaN</td>\n",
       "      <td>NaN</td>\n",
       "    </tr>\n",
       "    <tr>\n",
       "      <th>1</th>\n",
       "      <td>246675545449582_1649426988507757</td>\n",
       "      <td>photo</td>\n",
       "      <td>4/21/2018 22:45</td>\n",
       "      <td>150</td>\n",
       "      <td>0</td>\n",
       "      <td>0</td>\n",
       "      <td>150</td>\n",
       "      <td>0</td>\n",
       "      <td>0</td>\n",
       "      <td>0</td>\n",
       "      <td>0</td>\n",
       "      <td>0</td>\n",
       "      <td>NaN</td>\n",
       "      <td>NaN</td>\n",
       "      <td>NaN</td>\n",
       "      <td>NaN</td>\n",
       "    </tr>\n",
       "    <tr>\n",
       "      <th>2</th>\n",
       "      <td>246675545449582_1648730588577397</td>\n",
       "      <td>video</td>\n",
       "      <td>4/21/2018 6:17</td>\n",
       "      <td>227</td>\n",
       "      <td>236</td>\n",
       "      <td>57</td>\n",
       "      <td>204</td>\n",
       "      <td>21</td>\n",
       "      <td>1</td>\n",
       "      <td>1</td>\n",
       "      <td>0</td>\n",
       "      <td>0</td>\n",
       "      <td>NaN</td>\n",
       "      <td>NaN</td>\n",
       "      <td>NaN</td>\n",
       "      <td>NaN</td>\n",
       "    </tr>\n",
       "    <tr>\n",
       "      <th>3</th>\n",
       "      <td>246675545449582_1648576705259452</td>\n",
       "      <td>photo</td>\n",
       "      <td>4/21/2018 2:29</td>\n",
       "      <td>111</td>\n",
       "      <td>0</td>\n",
       "      <td>0</td>\n",
       "      <td>111</td>\n",
       "      <td>0</td>\n",
       "      <td>0</td>\n",
       "      <td>0</td>\n",
       "      <td>0</td>\n",
       "      <td>0</td>\n",
       "      <td>NaN</td>\n",
       "      <td>NaN</td>\n",
       "      <td>NaN</td>\n",
       "      <td>NaN</td>\n",
       "    </tr>\n",
       "    <tr>\n",
       "      <th>4</th>\n",
       "      <td>246675545449582_1645700502213739</td>\n",
       "      <td>photo</td>\n",
       "      <td>4/18/2018 3:22</td>\n",
       "      <td>213</td>\n",
       "      <td>0</td>\n",
       "      <td>0</td>\n",
       "      <td>204</td>\n",
       "      <td>9</td>\n",
       "      <td>0</td>\n",
       "      <td>0</td>\n",
       "      <td>0</td>\n",
       "      <td>0</td>\n",
       "      <td>NaN</td>\n",
       "      <td>NaN</td>\n",
       "      <td>NaN</td>\n",
       "      <td>NaN</td>\n",
       "    </tr>\n",
       "  </tbody>\n",
       "</table>\n",
       "</div>"
      ],
      "text/plain": [
       "                          status_id status_type status_published  \\\n",
       "0  246675545449582_1649696485147474       video   4/22/2018 6:00   \n",
       "1  246675545449582_1649426988507757       photo  4/21/2018 22:45   \n",
       "2  246675545449582_1648730588577397       video   4/21/2018 6:17   \n",
       "3  246675545449582_1648576705259452       photo   4/21/2018 2:29   \n",
       "4  246675545449582_1645700502213739       photo   4/18/2018 3:22   \n",
       "\n",
       "   num_reactions  num_comments  num_shares  num_likes  num_loves  num_wows  \\\n",
       "0            529           512         262        432         92         3   \n",
       "1            150             0           0        150          0         0   \n",
       "2            227           236          57        204         21         1   \n",
       "3            111             0           0        111          0         0   \n",
       "4            213             0           0        204          9         0   \n",
       "\n",
       "   num_hahas  num_sads  num_angrys  Column1  Column2  Column3  Column4  \n",
       "0          1         1           0      NaN      NaN      NaN      NaN  \n",
       "1          0         0           0      NaN      NaN      NaN      NaN  \n",
       "2          1         0           0      NaN      NaN      NaN      NaN  \n",
       "3          0         0           0      NaN      NaN      NaN      NaN  \n",
       "4          0         0           0      NaN      NaN      NaN      NaN  "
      ]
     },
     "execution_count": 8,
     "metadata": {},
     "output_type": "execute_result"
    }
   ],
   "source": [
    "df = pd.read_csv('../data/Live.csv')\n",
    "df.head()"
   ]
  },
  {
   "cell_type": "code",
   "execution_count": 4,
   "metadata": {},
   "outputs": [
    {
     "data": {
      "text/plain": [
       "(7050, 16)"
      ]
     },
     "execution_count": 4,
     "metadata": {},
     "output_type": "execute_result"
    }
   ],
   "source": [
    "# dimensão da base?\n",
    "df.shape"
   ]
  },
  {
   "cell_type": "code",
   "execution_count": 3,
   "metadata": {},
   "outputs": [
    {
     "data": {
      "text/plain": [
       "status_id              0\n",
       "status_type            0\n",
       "status_published       0\n",
       "num_reactions          0\n",
       "num_comments           0\n",
       "num_shares             0\n",
       "num_likes              0\n",
       "num_loves              0\n",
       "num_wows               0\n",
       "num_hahas              0\n",
       "num_sads               0\n",
       "num_angrys             0\n",
       "Column1             7050\n",
       "Column2             7050\n",
       "Column3             7050\n",
       "Column4             7050\n",
       "dtype: int64"
      ]
     },
     "execution_count": 3,
     "metadata": {},
     "output_type": "execute_result"
    }
   ],
   "source": [
    "# Verificando dados faltantes\n",
    "\n",
    "df.isna().sum()"
   ]
  },
  {
   "cell_type": "code",
   "execution_count": 9,
   "metadata": {},
   "outputs": [
    {
     "data": {
      "text/html": [
       "<div>\n",
       "<style scoped>\n",
       "    .dataframe tbody tr th:only-of-type {\n",
       "        vertical-align: middle;\n",
       "    }\n",
       "\n",
       "    .dataframe tbody tr th {\n",
       "        vertical-align: top;\n",
       "    }\n",
       "\n",
       "    .dataframe thead th {\n",
       "        text-align: right;\n",
       "    }\n",
       "</style>\n",
       "<table border=\"1\" class=\"dataframe\">\n",
       "  <thead>\n",
       "    <tr style=\"text-align: right;\">\n",
       "      <th></th>\n",
       "      <th>num_reactions</th>\n",
       "      <th>num_comments</th>\n",
       "      <th>num_shares</th>\n",
       "      <th>num_likes</th>\n",
       "      <th>num_loves</th>\n",
       "      <th>num_wows</th>\n",
       "      <th>num_hahas</th>\n",
       "      <th>num_sads</th>\n",
       "      <th>num_angrys</th>\n",
       "    </tr>\n",
       "  </thead>\n",
       "  <tbody>\n",
       "    <tr>\n",
       "      <th>0</th>\n",
       "      <td>529</td>\n",
       "      <td>512</td>\n",
       "      <td>262</td>\n",
       "      <td>432</td>\n",
       "      <td>92</td>\n",
       "      <td>3</td>\n",
       "      <td>1</td>\n",
       "      <td>1</td>\n",
       "      <td>0</td>\n",
       "    </tr>\n",
       "    <tr>\n",
       "      <th>1</th>\n",
       "      <td>150</td>\n",
       "      <td>0</td>\n",
       "      <td>0</td>\n",
       "      <td>150</td>\n",
       "      <td>0</td>\n",
       "      <td>0</td>\n",
       "      <td>0</td>\n",
       "      <td>0</td>\n",
       "      <td>0</td>\n",
       "    </tr>\n",
       "    <tr>\n",
       "      <th>2</th>\n",
       "      <td>227</td>\n",
       "      <td>236</td>\n",
       "      <td>57</td>\n",
       "      <td>204</td>\n",
       "      <td>21</td>\n",
       "      <td>1</td>\n",
       "      <td>1</td>\n",
       "      <td>0</td>\n",
       "      <td>0</td>\n",
       "    </tr>\n",
       "    <tr>\n",
       "      <th>3</th>\n",
       "      <td>111</td>\n",
       "      <td>0</td>\n",
       "      <td>0</td>\n",
       "      <td>111</td>\n",
       "      <td>0</td>\n",
       "      <td>0</td>\n",
       "      <td>0</td>\n",
       "      <td>0</td>\n",
       "      <td>0</td>\n",
       "    </tr>\n",
       "    <tr>\n",
       "      <th>4</th>\n",
       "      <td>213</td>\n",
       "      <td>0</td>\n",
       "      <td>0</td>\n",
       "      <td>204</td>\n",
       "      <td>9</td>\n",
       "      <td>0</td>\n",
       "      <td>0</td>\n",
       "      <td>0</td>\n",
       "      <td>0</td>\n",
       "    </tr>\n",
       "  </tbody>\n",
       "</table>\n",
       "</div>"
      ],
      "text/plain": [
       "   num_reactions  num_comments  num_shares  num_likes  num_loves  num_wows  \\\n",
       "0            529           512         262        432         92         3   \n",
       "1            150             0           0        150          0         0   \n",
       "2            227           236          57        204         21         1   \n",
       "3            111             0           0        111          0         0   \n",
       "4            213             0           0        204          9         0   \n",
       "\n",
       "   num_hahas  num_sads  num_angrys  \n",
       "0          1         1           0  \n",
       "1          0         0           0  \n",
       "2          1         0           0  \n",
       "3          0         0           0  \n",
       "4          0         0           0  "
      ]
     },
     "execution_count": 9,
     "metadata": {},
     "output_type": "execute_result"
    }
   ],
   "source": [
    "# removendo colunas sem informação\n",
    "\n",
    "df.drop(columns=['status_id','status_type','status_published','Column1','Column2','Column3', 'Column4'], inplace=True)\n",
    "\n",
    "df.head()"
   ]
  },
  {
   "cell_type": "code",
   "execution_count": 10,
   "metadata": {},
   "outputs": [
    {
     "name": "stdout",
     "output_type": "stream",
     "text": [
      "[[0.58933393 0.57039503 0.29188183 ... 0.00111405 0.00111405 0.        ]\n",
      " [0.70710678 0.         0.         ... 0.         0.         0.        ]\n",
      " [0.58122455 0.6042687  0.14594625 ... 0.00256046 0.         0.        ]\n",
      " ...\n",
      " [0.81649658 0.         0.         ... 0.         0.         0.        ]\n",
      " [0.70821134 0.02421235 0.04438931 ... 0.         0.         0.        ]\n",
      " [0.70710678 0.         0.         ... 0.         0.         0.        ]]\n"
     ]
    }
   ],
   "source": [
    "# normalizando os dados\n",
    "df_normalize = Normalizer().fit_transform(df.values)\n",
    "print(df_normalize)"
   ]
  },
  {
   "cell_type": "code",
   "execution_count": 62,
   "metadata": {},
   "outputs": [],
   "source": [
    "def clustering_algorithm(n_clusters, df_ref, n_init = 10, max_iter = 300, random_state = 101):\n",
    "    kmeans = KMeans(n_clusters=n_clusters, n_init=n_init, max_iter=max_iter, random_state=random_state)\n",
    "    labels = kmeans.fit_predict(df_ref)\n",
    "    s = silhouette_score(df_ref, labels, metric=\"euclidean\")\n",
    "    dbs = davies_bouldin_score(df_ref, labels)\n",
    "    calinsky = calinski_harabasz_score(df_ref, labels)\n",
    "    return [n_clusters, s, dbs, calinsky]"
   ]
  },
  {
   "cell_type": "code",
   "execution_count": 67,
   "metadata": {},
   "outputs": [],
   "source": [
    "def Validar_cluster(n_groups, df, n_init=10,\n",
    "    max_iter=300,\n",
    "    random_state=101):\n",
    "    df_metricas = pd.DataFrame(columns=['k','silhoutte', 'davies_bouldin', 'calinski_harabaz'])\n",
    "    i = 0\n",
    "    for k in n_groups:\n",
    "        print(i)\n",
    "        df_metricas.loc[i] = clustering_algorithm(k, df, n_init=n_init,\n",
    "    max_iter=max_iter,\n",
    "    random_state=random_state)\n",
    "        i = i+1  \n",
    "    return df_metricas"
   ]
  },
  {
   "cell_type": "code",
   "execution_count": 64,
   "metadata": {},
   "outputs": [
    {
     "name": "stdout",
     "output_type": "stream",
     "text": [
      "\u001b[1;31mSignature:\u001b[0m\n",
      " \u001b[0mclustering_algorithm\u001b[0m\u001b[1;33m(\u001b[0m\u001b[1;33m\n",
      "\u001b[0m    \u001b[0mn_clusters\u001b[0m\u001b[1;33m,\u001b[0m\u001b[1;33m\n",
      "\u001b[0m    \u001b[0mdf_ref\u001b[0m\u001b[1;33m,\u001b[0m\u001b[1;33m\n",
      "\u001b[0m    \u001b[0mn_init\u001b[0m\u001b[1;33m=\u001b[0m\u001b[1;36m10\u001b[0m\u001b[1;33m,\u001b[0m\u001b[1;33m\n",
      "\u001b[0m    \u001b[0mmax_iter\u001b[0m\u001b[1;33m=\u001b[0m\u001b[1;36m300\u001b[0m\u001b[1;33m,\u001b[0m\u001b[1;33m\n",
      "\u001b[0m    \u001b[0mrandom_state\u001b[0m\u001b[1;33m=\u001b[0m\u001b[1;36m101\u001b[0m\u001b[1;33m,\u001b[0m\u001b[1;33m\n",
      "\u001b[0m\u001b[1;33m)\u001b[0m\u001b[1;33m\u001b[0m\u001b[1;33m\u001b[0m\u001b[0m\n",
      "\u001b[1;31mDocstring:\u001b[0m <no docstring>\n",
      "\u001b[1;31mFile:\u001b[0m      c:\\users\\andre\\appdata\\local\\temp\\ipykernel_21004\\3029244531.py\n",
      "\u001b[1;31mType:\u001b[0m      function"
     ]
    }
   ],
   "source": [
    "? clustering_algorithm"
   ]
  },
  {
   "cell_type": "code",
   "execution_count": 63,
   "metadata": {},
   "outputs": [
    {
     "name": "stdout",
     "output_type": "stream",
     "text": [
      "\u001b[1;31mSignature:\u001b[0m  \u001b[0mValidar_cluster\u001b[0m\u001b[1;33m(\u001b[0m\u001b[0mn_groups\u001b[0m\u001b[1;33m,\u001b[0m \u001b[0mdf\u001b[0m\u001b[1;33m)\u001b[0m\u001b[1;33m\u001b[0m\u001b[1;33m\u001b[0m\u001b[0m\n",
      "\u001b[1;31mDocstring:\u001b[0m <no docstring>\n",
      "\u001b[1;31mFile:\u001b[0m      c:\\users\\andre\\appdata\\local\\temp\\ipykernel_21004\\963260957.py\n",
      "\u001b[1;31mType:\u001b[0m      function"
     ]
    }
   ],
   "source": [
    "? Validar_cluster"
   ]
  },
  {
   "cell_type": "code",
   "execution_count": 68,
   "metadata": {},
   "outputs": [
    {
     "name": "stdout",
     "output_type": "stream",
     "text": [
      "0\n",
      "1\n",
      "2\n",
      "3\n",
      "4\n",
      "5\n",
      "6\n",
      "7\n",
      "8\n",
      "9\n",
      "10\n",
      "11\n"
     ]
    }
   ],
   "source": [
    "df_a = Validar_cluster([3,4,5,6,7,8,9,10,20,30,40,50], df_normalize, n_init=100,\n",
    "    max_iter=3000,\n",
    "    random_state=101)"
   ]
  },
  {
   "cell_type": "code",
   "execution_count": 69,
   "metadata": {},
   "outputs": [
    {
     "data": {
      "text/html": [
       "<div>\n",
       "<style scoped>\n",
       "    .dataframe tbody tr th:only-of-type {\n",
       "        vertical-align: middle;\n",
       "    }\n",
       "\n",
       "    .dataframe tbody tr th {\n",
       "        vertical-align: top;\n",
       "    }\n",
       "\n",
       "    .dataframe thead th {\n",
       "        text-align: right;\n",
       "    }\n",
       "</style>\n",
       "<table border=\"1\" class=\"dataframe\">\n",
       "  <thead>\n",
       "    <tr style=\"text-align: right;\">\n",
       "      <th></th>\n",
       "      <th>k</th>\n",
       "      <th>silhoutte</th>\n",
       "      <th>davies_bouldin</th>\n",
       "      <th>calinski_harabaz</th>\n",
       "    </tr>\n",
       "  </thead>\n",
       "  <tbody>\n",
       "    <tr>\n",
       "      <th>0</th>\n",
       "      <td>3.0</td>\n",
       "      <td>0.815647</td>\n",
       "      <td>0.510467</td>\n",
       "      <td>16902.991770</td>\n",
       "    </tr>\n",
       "    <tr>\n",
       "      <th>1</th>\n",
       "      <td>4.0</td>\n",
       "      <td>0.747904</td>\n",
       "      <td>0.563464</td>\n",
       "      <td>18885.731066</td>\n",
       "    </tr>\n",
       "    <tr>\n",
       "      <th>2</th>\n",
       "      <td>5.0</td>\n",
       "      <td>0.709582</td>\n",
       "      <td>0.699243</td>\n",
       "      <td>18355.148326</td>\n",
       "    </tr>\n",
       "    <tr>\n",
       "      <th>3</th>\n",
       "      <td>6.0</td>\n",
       "      <td>0.621959</td>\n",
       "      <td>0.684290</td>\n",
       "      <td>18163.091531</td>\n",
       "    </tr>\n",
       "    <tr>\n",
       "      <th>4</th>\n",
       "      <td>7.0</td>\n",
       "      <td>0.629419</td>\n",
       "      <td>0.682977</td>\n",
       "      <td>18688.340222</td>\n",
       "    </tr>\n",
       "    <tr>\n",
       "      <th>5</th>\n",
       "      <td>8.0</td>\n",
       "      <td>0.553850</td>\n",
       "      <td>0.723079</td>\n",
       "      <td>18434.021933</td>\n",
       "    </tr>\n",
       "    <tr>\n",
       "      <th>6</th>\n",
       "      <td>9.0</td>\n",
       "      <td>0.570191</td>\n",
       "      <td>0.657142</td>\n",
       "      <td>18851.216644</td>\n",
       "    </tr>\n",
       "    <tr>\n",
       "      <th>7</th>\n",
       "      <td>10.0</td>\n",
       "      <td>0.549060</td>\n",
       "      <td>0.717407</td>\n",
       "      <td>19089.064771</td>\n",
       "    </tr>\n",
       "    <tr>\n",
       "      <th>8</th>\n",
       "      <td>20.0</td>\n",
       "      <td>0.473674</td>\n",
       "      <td>0.802497</td>\n",
       "      <td>18953.811231</td>\n",
       "    </tr>\n",
       "    <tr>\n",
       "      <th>9</th>\n",
       "      <td>30.0</td>\n",
       "      <td>0.470813</td>\n",
       "      <td>0.849208</td>\n",
       "      <td>17875.085687</td>\n",
       "    </tr>\n",
       "    <tr>\n",
       "      <th>10</th>\n",
       "      <td>40.0</td>\n",
       "      <td>0.431292</td>\n",
       "      <td>0.830076</td>\n",
       "      <td>17279.048554</td>\n",
       "    </tr>\n",
       "    <tr>\n",
       "      <th>11</th>\n",
       "      <td>50.0</td>\n",
       "      <td>0.422134</td>\n",
       "      <td>0.807931</td>\n",
       "      <td>16987.330234</td>\n",
       "    </tr>\n",
       "  </tbody>\n",
       "</table>\n",
       "</div>"
      ],
      "text/plain": [
       "       k  silhoutte  davies_bouldin  calinski_harabaz\n",
       "0    3.0   0.815647        0.510467      16902.991770\n",
       "1    4.0   0.747904        0.563464      18885.731066\n",
       "2    5.0   0.709582        0.699243      18355.148326\n",
       "3    6.0   0.621959        0.684290      18163.091531\n",
       "4    7.0   0.629419        0.682977      18688.340222\n",
       "5    8.0   0.553850        0.723079      18434.021933\n",
       "6    9.0   0.570191        0.657142      18851.216644\n",
       "7   10.0   0.549060        0.717407      19089.064771\n",
       "8   20.0   0.473674        0.802497      18953.811231\n",
       "9   30.0   0.470813        0.849208      17875.085687\n",
       "10  40.0   0.431292        0.830076      17279.048554\n",
       "11  50.0   0.422134        0.807931      16987.330234"
      ]
     },
     "execution_count": 69,
     "metadata": {},
     "output_type": "execute_result"
    }
   ],
   "source": [
    "df_a"
   ]
  },
  {
   "cell_type": "code",
   "execution_count": 71,
   "metadata": {},
   "outputs": [
    {
     "data": {
      "text/plain": [
       "k                       3.000000\n",
       "silhoutte               0.422134\n",
       "davies_bouldin          0.510467\n",
       "calinski_harabaz    16902.991770\n",
       "dtype: float64"
      ]
     },
     "execution_count": 71,
     "metadata": {},
     "output_type": "execute_result"
    }
   ],
   "source": [
    "df_a.min()\n",
    "#silhoutte               0.815647 (max)\n",
    "#davies_bouldin          0.510467  (min)\n",
    "#calinski_harabaz    19089.064771 (max)"
   ]
  },
  {
   "cell_type": "markdown",
   "metadata": {},
   "source": [
    "[Métricas Silhouette e Davies Bouldin](https://www.dca.fee.unicamp.br/~lboccato/topico_8_clusterizacao.pdf)"
   ]
  },
  {
   "cell_type": "code",
   "execution_count": 52,
   "metadata": {},
   "outputs": [
    {
     "data": {
      "text/html": [
       "<div>\n",
       "<style scoped>\n",
       "    .dataframe tbody tr th:only-of-type {\n",
       "        vertical-align: middle;\n",
       "    }\n",
       "\n",
       "    .dataframe tbody tr th {\n",
       "        vertical-align: top;\n",
       "    }\n",
       "\n",
       "    .dataframe thead th {\n",
       "        text-align: right;\n",
       "    }\n",
       "</style>\n",
       "<table border=\"1\" class=\"dataframe\">\n",
       "  <thead>\n",
       "    <tr style=\"text-align: right;\">\n",
       "      <th></th>\n",
       "      <th>k</th>\n",
       "      <th>silhoutte</th>\n",
       "      <th>davies_bouldin</th>\n",
       "      <th>calinski_harabaz</th>\n",
       "    </tr>\n",
       "  </thead>\n",
       "  <tbody>\n",
       "    <tr>\n",
       "      <th>0</th>\n",
       "      <td>3.0</td>\n",
       "      <td>0.815647</td>\n",
       "      <td>0.510467</td>\n",
       "      <td>16902.991770</td>\n",
       "    </tr>\n",
       "    <tr>\n",
       "      <th>1</th>\n",
       "      <td>4.0</td>\n",
       "      <td>0.747904</td>\n",
       "      <td>0.563464</td>\n",
       "      <td>18885.731066</td>\n",
       "    </tr>\n",
       "    <tr>\n",
       "      <th>2</th>\n",
       "      <td>5.0</td>\n",
       "      <td>0.709520</td>\n",
       "      <td>0.698777</td>\n",
       "      <td>18354.989664</td>\n",
       "    </tr>\n",
       "    <tr>\n",
       "      <th>3</th>\n",
       "      <td>6.0</td>\n",
       "      <td>0.616452</td>\n",
       "      <td>0.689106</td>\n",
       "      <td>18163.113505</td>\n",
       "    </tr>\n",
       "    <tr>\n",
       "      <th>4</th>\n",
       "      <td>7.0</td>\n",
       "      <td>0.629419</td>\n",
       "      <td>0.682977</td>\n",
       "      <td>18688.340222</td>\n",
       "    </tr>\n",
       "    <tr>\n",
       "      <th>5</th>\n",
       "      <td>8.0</td>\n",
       "      <td>0.553465</td>\n",
       "      <td>0.724094</td>\n",
       "      <td>18431.542337</td>\n",
       "    </tr>\n",
       "    <tr>\n",
       "      <th>6</th>\n",
       "      <td>9.0</td>\n",
       "      <td>0.565991</td>\n",
       "      <td>0.654901</td>\n",
       "      <td>18812.538672</td>\n",
       "    </tr>\n",
       "    <tr>\n",
       "      <th>7</th>\n",
       "      <td>10.0</td>\n",
       "      <td>0.550898</td>\n",
       "      <td>0.719537</td>\n",
       "      <td>19081.721969</td>\n",
       "    </tr>\n",
       "    <tr>\n",
       "      <th>8</th>\n",
       "      <td>20.0</td>\n",
       "      <td>0.475898</td>\n",
       "      <td>0.781564</td>\n",
       "      <td>18778.825358</td>\n",
       "    </tr>\n",
       "    <tr>\n",
       "      <th>9</th>\n",
       "      <td>30.0</td>\n",
       "      <td>0.468889</td>\n",
       "      <td>0.854688</td>\n",
       "      <td>17650.657165</td>\n",
       "    </tr>\n",
       "    <tr>\n",
       "      <th>10</th>\n",
       "      <td>40.0</td>\n",
       "      <td>0.428254</td>\n",
       "      <td>0.874973</td>\n",
       "      <td>16832.617793</td>\n",
       "    </tr>\n",
       "    <tr>\n",
       "      <th>11</th>\n",
       "      <td>50.0</td>\n",
       "      <td>0.440557</td>\n",
       "      <td>0.900013</td>\n",
       "      <td>16668.093110</td>\n",
       "    </tr>\n",
       "  </tbody>\n",
       "</table>\n",
       "</div>"
      ],
      "text/plain": [
       "       k  silhoutte  davies_bouldin  calinski_harabaz\n",
       "0    3.0   0.815647        0.510467      16902.991770\n",
       "1    4.0   0.747904        0.563464      18885.731066\n",
       "2    5.0   0.709520        0.698777      18354.989664\n",
       "3    6.0   0.616452        0.689106      18163.113505\n",
       "4    7.0   0.629419        0.682977      18688.340222\n",
       "5    8.0   0.553465        0.724094      18431.542337\n",
       "6    9.0   0.565991        0.654901      18812.538672\n",
       "7   10.0   0.550898        0.719537      19081.721969\n",
       "8   20.0   0.475898        0.781564      18778.825358\n",
       "9   30.0   0.468889        0.854688      17650.657165\n",
       "10  40.0   0.428254        0.874973      16832.617793\n",
       "11  50.0   0.440557        0.900013      16668.093110"
      ]
     },
     "execution_count": 52,
     "metadata": {},
     "output_type": "execute_result"
    }
   ],
   "source": [
    "# interpretação: silhouette, quanto maior melhor\n",
    "#                Davies bouldin, quanto menor melhor\n",
    "#                Calinsky harabaz, quanto maior melhor\n",
    "\n",
    "\n",
    "df_a"
   ]
  },
  {
   "cell_type": "code",
   "execution_count": null,
   "metadata": {},
   "outputs": [],
   "source": [
    "# pelas métricas silhoutte e davie boudin, o melhor tamanho de clusters é 3"
   ]
  },
  {
   "cell_type": "code",
   "execution_count": 72,
   "metadata": {},
   "outputs": [],
   "source": [
    "# setando o modelo\n",
    "model = KMeans(n_clusters = 3, n_init=100,\n",
    "    max_iter=3000,\n",
    "    random_state=101)"
   ]
  },
  {
   "cell_type": "code",
   "execution_count": 73,
   "metadata": {},
   "outputs": [],
   "source": [
    "# aplicando o predict\n",
    "\n",
    "y_pred = model.fit_predict(df_normalize)"
   ]
  },
  {
   "cell_type": "markdown",
   "metadata": {},
   "source": [
    "## Validar a estabilidade dos clusters\n",
    "\n",
    "Separamos a base em parte diferente, para avaliar se as métricas irão ter mudanças\n",
    "se as metricas não tiverem grandes mudanças temos evidências que os cluster estão estáveis"
   ]
  },
  {
   "cell_type": "code",
   "execution_count": 74,
   "metadata": {},
   "outputs": [
    {
     "name": "stdout",
     "output_type": "stream",
     "text": [
      "[3, 0.7180952484647748, 0.775718236908741, 2664.9430178825028]\n",
      "[3, 0.7897461541106873, 0.46312336037769364, 4936.685342024458]\n",
      "[3, 0.7478681560186098, 0.68800662206778, 13132.810593409498]\n"
     ]
    }
   ],
   "source": [
    "set1, set2, set3 = np.array_split(df_normalize, 3)\n",
    "print(clustering_algorithm(3, set1,n_init=100,\n",
    "    max_iter=3000,\n",
    "    random_state=101))\n",
    "print(clustering_algorithm(3, set2,n_init=100,\n",
    "    max_iter=3000,\n",
    "    random_state=101))\n",
    "print(clustering_algorithm(3, set3,n_init=100,\n",
    "    max_iter=3000,\n",
    "    random_state=101))"
   ]
  },
  {
   "cell_type": "markdown",
   "metadata": {},
   "source": [
    "Os dados não tem uma grande estabilidade das métricas, é um indicio, que os clusters\n",
    "não estão bem definidos"
   ]
  },
  {
   "cell_type": "code",
   "execution_count": 77,
   "metadata": {},
   "outputs": [
    {
     "data": {
      "text/plain": [
       "(7050, 9)"
      ]
     },
     "execution_count": 77,
     "metadata": {},
     "output_type": "execute_result"
    }
   ],
   "source": [
    "df_normalize.shape"
   ]
  },
  {
   "cell_type": "markdown",
   "metadata": {},
   "source": [
    "## Interpretar os resultados do cluster"
   ]
  },
  {
   "cell_type": "code",
   "execution_count": 110,
   "metadata": {},
   "outputs": [
    {
     "name": "stdout",
     "output_type": "stream",
     "text": [
      "[[ 7.05306611e-01  6.73705312e-02  1.72726608e-02  6.92940960e-01\n",
      "   7.85753620e-03  2.39388006e-03  8.98319923e-04  9.55109578e-04\n",
      "   2.53815272e-04]\n",
      " [ 3.06462758e-01  8.46636087e-01  2.02662327e-01  2.35960818e-01\n",
      "   6.38927361e-02  3.14684914e-03  2.49988975e-03  5.57326563e-04\n",
      "   4.05138379e-04]\n",
      " [ 3.73162259e-02  1.43085931e-02  1.29927113e-01  2.04170811e-02\n",
      "   1.67049754e-02  1.05715333e-04  6.02058592e-05 -7.58941521e-19\n",
      "   2.82482447e-05]]\n"
     ]
    }
   ],
   "source": [
    "# colentado os centroides\n",
    "print(model.cluster_centers_)"
   ]
  },
  {
   "cell_type": "code",
   "execution_count": 120,
   "metadata": {},
   "outputs": [],
   "source": [
    "df_centroids = pd.DataFrame(columns=['VARIAVEL', 'VARIANCIA'])\n",
    "max = len(model.cluster_centers_[0])\n",
    "for i in range(max):\n",
    "    df_centroids.loc[i] = [df.columns.values[i], \"{:4f}\".format(model.cluster_centers_[:, i].var())]\n",
    "    #print(df.columns.values[i], \"\\n{:4f}\".format(kmeans.cluster_centers_[:, i].var()))"
   ]
  },
  {
   "cell_type": "code",
   "execution_count": 131,
   "metadata": {},
   "outputs": [
    {
     "data": {
      "text/html": [
       "<div>\n",
       "<style scoped>\n",
       "    .dataframe tbody tr th:only-of-type {\n",
       "        vertical-align: middle;\n",
       "    }\n",
       "\n",
       "    .dataframe tbody tr th {\n",
       "        vertical-align: top;\n",
       "    }\n",
       "\n",
       "    .dataframe thead th {\n",
       "        text-align: right;\n",
       "    }\n",
       "</style>\n",
       "<table border=\"1\" class=\"dataframe\">\n",
       "  <thead>\n",
       "    <tr style=\"text-align: right;\">\n",
       "      <th></th>\n",
       "      <th>num_reactions</th>\n",
       "      <th>num_comments</th>\n",
       "      <th>num_shares</th>\n",
       "      <th>num_likes</th>\n",
       "      <th>num_loves</th>\n",
       "      <th>num_wows</th>\n",
       "      <th>num_hahas</th>\n",
       "      <th>num_sads</th>\n",
       "      <th>num_angrys</th>\n",
       "      <th>cluster</th>\n",
       "    </tr>\n",
       "  </thead>\n",
       "  <tbody>\n",
       "    <tr>\n",
       "      <th>0</th>\n",
       "      <td>529</td>\n",
       "      <td>512</td>\n",
       "      <td>262</td>\n",
       "      <td>432</td>\n",
       "      <td>92</td>\n",
       "      <td>3</td>\n",
       "      <td>1</td>\n",
       "      <td>1</td>\n",
       "      <td>0</td>\n",
       "      <td>1</td>\n",
       "    </tr>\n",
       "    <tr>\n",
       "      <th>1</th>\n",
       "      <td>150</td>\n",
       "      <td>0</td>\n",
       "      <td>0</td>\n",
       "      <td>150</td>\n",
       "      <td>0</td>\n",
       "      <td>0</td>\n",
       "      <td>0</td>\n",
       "      <td>0</td>\n",
       "      <td>0</td>\n",
       "      <td>0</td>\n",
       "    </tr>\n",
       "    <tr>\n",
       "      <th>2</th>\n",
       "      <td>227</td>\n",
       "      <td>236</td>\n",
       "      <td>57</td>\n",
       "      <td>204</td>\n",
       "      <td>21</td>\n",
       "      <td>1</td>\n",
       "      <td>1</td>\n",
       "      <td>0</td>\n",
       "      <td>0</td>\n",
       "      <td>1</td>\n",
       "    </tr>\n",
       "    <tr>\n",
       "      <th>3</th>\n",
       "      <td>111</td>\n",
       "      <td>0</td>\n",
       "      <td>0</td>\n",
       "      <td>111</td>\n",
       "      <td>0</td>\n",
       "      <td>0</td>\n",
       "      <td>0</td>\n",
       "      <td>0</td>\n",
       "      <td>0</td>\n",
       "      <td>0</td>\n",
       "    </tr>\n",
       "    <tr>\n",
       "      <th>4</th>\n",
       "      <td>213</td>\n",
       "      <td>0</td>\n",
       "      <td>0</td>\n",
       "      <td>204</td>\n",
       "      <td>9</td>\n",
       "      <td>0</td>\n",
       "      <td>0</td>\n",
       "      <td>0</td>\n",
       "      <td>0</td>\n",
       "      <td>0</td>\n",
       "    </tr>\n",
       "  </tbody>\n",
       "</table>\n",
       "</div>"
      ],
      "text/plain": [
       "   num_reactions  num_comments  num_shares  num_likes  num_loves  num_wows  \\\n",
       "0            529           512         262        432         92         3   \n",
       "1            150             0           0        150          0         0   \n",
       "2            227           236          57        204         21         1   \n",
       "3            111             0           0        111          0         0   \n",
       "4            213             0           0        204          9         0   \n",
       "\n",
       "   num_hahas  num_sads  num_angrys  cluster  \n",
       "0          1         1           0        1  \n",
       "1          0         0           0        0  \n",
       "2          1         0           0        1  \n",
       "3          0         0           0        0  \n",
       "4          0         0           0        0  "
      ]
     },
     "execution_count": 131,
     "metadata": {},
     "output_type": "execute_result"
    }
   ],
   "source": [
    "df['cluster'] = model.labels_\n",
    "df.head()"
   ]
  },
  {
   "cell_type": "code",
   "execution_count": 123,
   "metadata": {},
   "outputs": [
    {
     "data": {
      "text/html": [
       "<div>\n",
       "<style scoped>\n",
       "    .dataframe tbody tr th:only-of-type {\n",
       "        vertical-align: middle;\n",
       "    }\n",
       "\n",
       "    .dataframe tbody tr th {\n",
       "        vertical-align: top;\n",
       "    }\n",
       "\n",
       "    .dataframe thead th {\n",
       "        text-align: right;\n",
       "    }\n",
       "</style>\n",
       "<table border=\"1\" class=\"dataframe\">\n",
       "  <thead>\n",
       "    <tr style=\"text-align: right;\">\n",
       "      <th></th>\n",
       "      <th>VARIAVEL</th>\n",
       "      <th>VARIANCIA</th>\n",
       "    </tr>\n",
       "  </thead>\n",
       "  <tbody>\n",
       "    <tr>\n",
       "      <th>1</th>\n",
       "      <td>num_comments</td>\n",
       "      <td>0.144760</td>\n",
       "    </tr>\n",
       "    <tr>\n",
       "      <th>3</th>\n",
       "      <td>num_likes</td>\n",
       "      <td>0.078620</td>\n",
       "    </tr>\n",
       "    <tr>\n",
       "      <th>0</th>\n",
       "      <td>num_reactions</td>\n",
       "      <td>0.075303</td>\n",
       "    </tr>\n",
       "    <tr>\n",
       "      <th>2</th>\n",
       "      <td>num_shares</td>\n",
       "      <td>0.005817</td>\n",
       "    </tr>\n",
       "    <tr>\n",
       "      <th>4</th>\n",
       "      <td>num_loves</td>\n",
       "      <td>0.000605</td>\n",
       "    </tr>\n",
       "    <tr>\n",
       "      <th>5</th>\n",
       "      <td>num_wows</td>\n",
       "      <td>0.000002</td>\n",
       "    </tr>\n",
       "    <tr>\n",
       "      <th>6</th>\n",
       "      <td>num_hahas</td>\n",
       "      <td>0.000001</td>\n",
       "    </tr>\n",
       "    <tr>\n",
       "      <th>7</th>\n",
       "      <td>num_sads</td>\n",
       "      <td>0.000000</td>\n",
       "    </tr>\n",
       "    <tr>\n",
       "      <th>8</th>\n",
       "      <td>num_angrys</td>\n",
       "      <td>0.000000</td>\n",
       "    </tr>\n",
       "  </tbody>\n",
       "</table>\n",
       "</div>"
      ],
      "text/plain": [
       "        VARIAVEL VARIANCIA\n",
       "1   num_comments  0.144760\n",
       "3      num_likes  0.078620\n",
       "0  num_reactions  0.075303\n",
       "2     num_shares  0.005817\n",
       "4      num_loves  0.000605\n",
       "5       num_wows  0.000002\n",
       "6      num_hahas  0.000001\n",
       "7       num_sads  0.000000\n",
       "8     num_angrys  0.000000"
      ]
     },
     "execution_count": 123,
     "metadata": {},
     "output_type": "execute_result"
    }
   ],
   "source": [
    "df_centroids.sort_values('VARIANCIA', ascending=False)"
   ]
  },
  {
   "cell_type": "code",
   "execution_count": 136,
   "metadata": {},
   "outputs": [
    {
     "name": "stdout",
     "output_type": "stream",
     "text": [
      "   cluster  num_comments   num_likes  num_reactions  num_shares  n_cliente\n",
      "0        0     16.450967  215.672652     219.224965    4.199586       5792\n",
      "1        1   1326.589286  237.902679     314.352679  228.172321       1120\n",
      "2        2      4.681159    3.094203       3.623188   16.536232        138\n"
     ]
    }
   ],
   "source": [
    "description = df[['num_comments','num_likes','num_reactions','num_shares','cluster']].groupby('cluster')\n",
    "n_clientes = description.size()\n",
    "description = description.mean()\n",
    "description['n_cliente'] = n_clientes\n",
    "print(description.reset_index())"
   ]
  },
  {
   "cell_type": "markdown",
   "metadata": {},
   "source": [
    "CLUSTER 0: MAIOR QUANTIDADE DE POSTAGENS, MENOR NÚMERO DE COMPARTILHAMENTOS\n",
    "    \n",
    "CLUSTER 1: MAIOR NÚMERO DE COMENTÁRIOS\n",
    "\n",
    "CLUSTER 2: MENOR NÚMERO DE LIKES E REAÇÕES, MENOR NÚMERO DE PESSOAS"
   ]
  },
  {
   "cell_type": "markdown",
   "metadata": {},
   "source": [
    "CLUSTER 0: É O GRUPO COM A MAIOR QUANTIDADE DE POSTAGENS, SÃO POSTAGENS POUCO COMENTADAS E COMPARTILHADAS,\n",
    "MAS COM UM BOM NÚMERO DE REAÇÕES E LIKES.\n",
    "\n",
    "CLUSTER 1: É O GRUPO DE POSTAGENS, QUE GERARAM MUITO ENGAJAMENTO A NÍVEL DE COMENTÁRIOS, LIKES, REAÇÕES E COMPARTILHAMENTOS.\n",
    "\n",
    "CLUSTER 2: É O MENOR GRUPO DE POSTAGENS, QUE TEM POUCO ENGAJAMENTO"
   ]
  },
  {
   "cell_type": "markdown",
   "metadata": {},
   "source": [
    "CLUSTER 0: Postagens com engajamento de like e reações, maior grupo.\n",
    "\n",
    "CLUSTER 1: Postagens com muito engajamento.\n",
    "\n",
    "CLUSTER 0: Postagens com pouco engajamento, menor grupo."
   ]
  },
  {
   "cell_type": "markdown",
   "metadata": {},
   "source": [
    "# Testando DBscan\n",
    "\n",
    "## Calcular o epsilon  \n",
    "\n",
    "para isto iremos utilizar  média via k pontos do knn, a definição é feita considerando\n",
    "    colunas + 1, considerar o k igual ou maio ao resultado, k-medias = k-1\n",
    ","
   ]
  },
  {
   "cell_type": "code",
   "execution_count": 90,
   "metadata": {},
   "outputs": [
    {
     "data": {
      "image/png": "[encoded data removed]",
      "text/plain": [
       "<Figure size 600x300 with 1 Axes>"
      ]
     },
     "metadata": {},
     "output_type": "display_data"
    }
   ],
   "source": [
    "nn = NearestNeighbors(n_neighbors=4) # minimum points -1\n",
    "nbrs = nn.fit(df_normalize)\n",
    "distances, indices = nbrs.kneighbors(df_normalize)\n",
    "\n",
    "distances = np.sort(distances, axis=0)\n",
    "distances = distances[:,1] # Choosing only the smallest distances\n",
    "\n",
    "import matplotlib.pyplot as plt\n",
    "\n",
    "plt.figure(figsize=(6,3))\n",
    "plt.plot(distances)\n",
    "plt.axhline(y=0.06, color='r', linestyle='--', alpha=0.4) # elbow line\n",
    "plt.title('Kneighbors distance graph')\n",
    "plt.xlabel('Data points')\n",
    "plt.ylabel('Epsilon value')\n",
    "plt.show();"
   ]
  },
  {
   "cell_type": "markdown",
   "metadata": {},
   "source": [
    "Valor do epsilon é 0,06"
   ]
  },
  {
   "cell_type": "code",
   "execution_count": 99,
   "metadata": {},
   "outputs": [],
   "source": [
    "def clustering_algorithm(df_ref, eps = 0.06, min_samples = 11):\n",
    "    dbs = DBSCAN(eps=eps, min_samples=min_samples)\n",
    "    dbs.fit(df_ref)\n",
    "    labels = dbs.labels_\n",
    "    s = silhouette_score(df_ref, labels, metric=\"euclidean\")\n",
    "    dbs = davies_bouldin_score(df_ref, labels)\n",
    "    calinsky = calinski_harabasz_score(df_ref, labels)\n",
    "    return [s, dbs, calinsky]"
   ]
  },
  {
   "cell_type": "code",
   "execution_count": 100,
   "metadata": {},
   "outputs": [
    {
     "data": {
      "text/plain": [
       "[0.2885929109749816, 1.2883082939864294, 181.0443439884671]"
      ]
     },
     "execution_count": 100,
     "metadata": {},
     "output_type": "execute_result"
    }
   ],
   "source": [
    "clustering_algorithm(df_ref=df_normalize, eps=0.06, min_samples=10)"
   ]
  },
  {
   "cell_type": "code",
   "execution_count": null,
   "metadata": {},
   "outputs": [],
   "source": [
    "kmedoids = KMedoids(n_clusters=3).fit(Clus_dataSet)"
   ]
  }
 ],
 "metadata": {
  "kernelspec": {
   "display_name": "base",
   "language": "python",
   "name": "python3"
  },
  "language_info": {
   "codemirror_mode": {
    "name": "ipython",
    "version": 3
   },
   "file_extension": ".py",
   "mimetype": "text/x-python",
   "name": "python",
   "nbconvert_exporter": "python",
   "pygments_lexer": "ipython3",
   "version": "3.9.5"
  }
 },
 "nbformat": 4,
 "nbformat_minor": 2
}
